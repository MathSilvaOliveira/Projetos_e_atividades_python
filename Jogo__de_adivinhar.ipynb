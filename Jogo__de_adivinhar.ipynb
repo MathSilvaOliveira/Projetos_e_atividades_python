{
  "nbformat": 4,
  "nbformat_minor": 0,
  "metadata": {
    "colab": {
      "provenance": []
    },
    "kernelspec": {
      "name": "python3",
      "display_name": "Python 3"
    },
    "language_info": {
      "name": "python"
    }
  },
  "cells": [
    {
      "cell_type": "code",
      "execution_count": null,
      "metadata": {
        "colab": {
          "base_uri": "https://localhost:8080/"
        },
        "id": "9XvIvSz-rASG",
        "outputId": "06e99dcf-4fb2-43cb-ca4d-6632a0a69f99"
      },
      "outputs": [
        {
          "name": "stdout",
          "output_type": "stream",
          "text": [
            "\n",
            "Palpite gerado!\n",
            "Qual seu chute: 68\n",
            "É menor\n",
            "Qual seu chute: 48\n",
            "É maior\n",
            "Qual seu chute: 55\n",
            "É maior\n",
            "Qual seu chute: 58\n",
            "É maior\n",
            "Qual seu chute: 63\n",
            "É menor\n",
            "Qual seu chute: 62\n",
            "É menor\n",
            "Qual seu chute: 61\n",
            "É menor\n",
            "Qual seu chute: 60\n",
            "Parabéns! Número sorteado:  60 \n",
            "Tentativas:  8\n",
            "Deseja jogar novamente? (s/n): n\n"
          ]
        }
      ],
      "source": [
        "import random\n",
        "\n",
        "\n",
        "def geral (): \n",
        "    return random.randint(1,100)\n",
        "\n",
        "def game ():\n",
        "    resposta = geral()\n",
        "    tentativa = 0\n",
        "    print(\"\\nPalpite gerado!\")\n",
        "    \n",
        "    chute = 0\n",
        "    while chute is not resposta:\n",
        "          tentativa += 1\n",
        "          chute = int(input(\"Qual seu chute: \"))\n",
        "          if chute > resposta:\n",
        "            print(\"É menor\")\n",
        "          elif chute < resposta:\n",
        "            print(\"É maior\")\n",
        "          else:\n",
        "            print(\"Parabéns! Número sorteado: \", resposta, \"\\nTentativas: \", tentativa)  \n",
        "        \n",
        "                \n",
        "while True:\n",
        "    game()\n",
        "    jogar_novamente = input(\"Deseja jogar novamente? (s/n): \")\n",
        "    if jogar_novamente.lower() != 's':\n",
        "        break"
      ]
    }
  ]
}