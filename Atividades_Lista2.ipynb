{
  "nbformat": 4,
  "nbformat_minor": 0,
  "metadata": {
    "colab": {
      "provenance": [],
      "authorship_tag": "ABX9TyNj61iwEg7f6k23/OQMX9sv",
      "include_colab_link": true
    },
    "kernelspec": {
      "name": "python3",
      "display_name": "Python 3"
    },
    "language_info": {
      "name": "python"
    }
  },
  "cells": [
    {
      "cell_type": "markdown",
      "metadata": {
        "id": "view-in-github",
        "colab_type": "text"
      },
      "source": [
        "<a href=\"https://colab.research.google.com/github/math22silva/Projetos_e_atividades_python/blob/main/Atividades_Lista2.ipynb\" target=\"_parent\"><img src=\"https://colab.research.google.com/assets/colab-badge.svg\" alt=\"Open In Colab\"/></a>"
      ]
    },
    {
      "cell_type": "markdown",
      "source": [
        "Exercício 1"
      ],
      "metadata": {
        "id": "Wh6g8HGz8AHQ"
      }
    },
    {
      "cell_type": "code",
      "execution_count": null,
      "metadata": {
        "id": "Jg-RSVEh7tGX",
        "colab": {
          "base_uri": "https://localhost:8080/"
        },
        "outputId": "4afe3b2d-7ead-404c-d50a-f4c7af7bf6c7"
      },
      "outputs": [
        {
          "output_type": "stream",
          "name": "stdout",
          "text": [
            "Digite a sua idade: 20\n",
            "Maior de idade\n"
          ]
        }
      ],
      "source": [
        "idade = int(input(\"Digite a sua idade: \"))\n",
        "lista_idade = [\"Maior de idade\", \"Menor de idade\"] \n",
        "\n",
        "if idade >= 18:\n",
        "  print(lista_idade[0])\n",
        "else:\n",
        "  print(lista_idade[-1])"
      ]
    },
    {
      "cell_type": "markdown",
      "source": [
        "Exercício 2"
      ],
      "metadata": {
        "id": "y_Lm8uG5DTaB"
      }
    },
    {
      "cell_type": "code",
      "source": [
        "temperatura = float(input(\"Digite a temperatura em Celsius: \"))\n",
        "escolha = input(\"Converter para (F)ahrenheit ou (K)elvin: \")\n",
        "\n",
        "if  escolha == \"F\":\n",
        "    print(\"A temperatura em Fahrenheit é\", round((temperatura*1.8)+32, 3), \"°F\")\n",
        "\n",
        "else:\n",
        "    print(\"A temperatura em Kelvin é\", round((temperatura+273.15), 3), \"K\") \n"
      ],
      "metadata": {
        "colab": {
          "base_uri": "https://localhost:8080/"
        },
        "id": "lU1Fw8F1DVyg",
        "outputId": "fc8a0bd9-f4bd-4012-91da-1759e6f27856"
      },
      "execution_count": null,
      "outputs": [
        {
          "output_type": "stream",
          "name": "stdout",
          "text": [
            "Digite a temperatura em Celsius: 89\n",
            "Converter para (F)ahrenheit ou (K)elvin: K\n",
            "A temperatura em Kelvin é 362.15 K\n"
          ]
        }
      ]
    },
    {
      "cell_type": "markdown",
      "source": [
        "Exercício 3"
      ],
      "metadata": {
        "id": "P04dIYffGeTo"
      }
    },
    {
      "cell_type": "code",
      "source": [
        "num = float(input(\"Digite um número: \"))\n",
        "lista_num = [\". Esse número é positivo\",\". Esse número é negativo\",\"Número zero\"]\n",
        "if num > 0:\n",
        "  print(\"O número digitado foi\",round(num,0),lista_num[0])\n",
        "\n",
        "elif num < 0:\n",
        "  print(\"O número digitado foi\",num,lista_num[1])\n",
        "\n",
        "else:\n",
        "  print(lista_num[-1])  "
      ],
      "metadata": {
        "colab": {
          "base_uri": "https://localhost:8080/"
        },
        "id": "OgPY9h6qGgSA",
        "outputId": "8af14b13-f6c3-4b41-ab18-1ccf3e95f7be"
      },
      "execution_count": null,
      "outputs": [
        {
          "output_type": "stream",
          "name": "stdout",
          "text": [
            "Digite um número: 12\n",
            "O número digitado foi 12.0 . Esse número é positivo\n"
          ]
        }
      ]
    },
    {
      "cell_type": "markdown",
      "source": [
        "Exercício 4"
      ],
      "metadata": {
        "id": "xaL_Nn6NJbKp"
      }
    },
    {
      "cell_type": "code",
      "source": [
        "lista_imc = [\"Abaixo do peso\",\"peso normal\",\"sobrepeso\",\"obesidade grau 1\",\"obesidade grau 2\",\"obesidade grau 3\"]\n",
        "altura = float(input(\"Digite sua altura: \"))\n",
        "peso = float(input(\"Digite seu peso: \"))\n",
        "\n",
        "imc = peso/(altura*altura)\n",
        "\n",
        "if imc < 18.50:\n",
        "  print(\"Seu imc é\", round(imc,2))\n",
        "  print(lista_imc[0])\n",
        "\n",
        "elif 24.90 >= imc >= 18.50:\n",
        "  print(\"Seu imc é\", round(imc,2))\n",
        "  print(lista_imc[1])\n",
        "\n",
        "elif 29.90 >= imc >= 25.00:\n",
        "  print(\"Seu imc é\", round(imc,2))\n",
        "  print(lista_imc[2]) \n",
        "\n",
        "elif 34.90 >= imc >= 30.00:\n",
        "  print(\"Seu imc é\", round(imc,2))\n",
        "  print(lista_imc[3])\n",
        "\n",
        "elif 39.90 >= imc >= 35.00:\n",
        "  print(\"Seu imc é\", round(imc,2))\n",
        "  print(lista_imc[4])\n",
        "\n",
        "else:\n",
        "  print(\"Seu imc é\", round(imc,2))\n",
        "  print(lista_imc[-1])"
      ],
      "metadata": {
        "colab": {
          "base_uri": "https://localhost:8080/"
        },
        "id": "GTipJd9nJdLf",
        "outputId": "8841d860-eb8c-407e-96ef-146bc9147409"
      },
      "execution_count": null,
      "outputs": [
        {
          "output_type": "stream",
          "name": "stdout",
          "text": [
            "Digite sua altura: 1.83\n",
            "Digite seu peso: 84\n",
            "Seu imc é 25.08\n",
            "sobrepeso\n"
          ]
        }
      ]
    },
    {
      "cell_type": "markdown",
      "source": [
        "Exercício 5"
      ],
      "metadata": {
        "id": "5MQ4xNW-QEYY"
      }
    },
    {
      "cell_type": "code",
      "source": [
        "numero = []\n",
        "\n",
        "while len(numero)!= 3:\n",
        "  numero.append(int(input(\"Digite um número: \")))\n",
        "\n",
        "\n",
        "if numero[0] == numero[1] == numero[-1]:\n",
        "  print(\"Todos os números são iguais\")\n",
        "\n",
        "elif numero[0] > numero[1] and numero[0] > numero[-1]:\n",
        "  print(\"O\",numero[0], \"é maior \")  \n",
        "\n",
        "elif numero[1] > numero[0] and numero[1] > numero[-1]:\n",
        "  print(\"O\", numero[1], \"é maior\")  \n",
        "\n",
        "else:\n",
        "  print(\"O\",numero[-1],\"é maior\")   "
      ],
      "metadata": {
        "colab": {
          "base_uri": "https://localhost:8080/"
        },
        "id": "qMNArV8cQGpg",
        "outputId": "d5c96ab4-bc40-4471-8ddf-6ff43f399f89"
      },
      "execution_count": null,
      "outputs": [
        {
          "output_type": "stream",
          "name": "stdout",
          "text": [
            "Digite um número: 10\n",
            "Digite um número: 2\n",
            "Digite um número: 3\n",
            "O 10 é maior \n"
          ]
        }
      ]
    },
    {
      "cell_type": "markdown",
      "source": [
        "Exercício 6"
      ],
      "metadata": {
        "id": "FbhRqNh23kgS"
      }
    },
    {
      "cell_type": "code",
      "source": [
        "ano = int(input(\"Ano de nascimento: \"))\n",
        "lista_faixa = [\"Criança\", \"Adolescente\", \"Adulto\", \"Idoso\"]\n",
        "calculo = 2023 - ano\n",
        "\n",
        "if 12>=calculo > 0:\n",
        "  print(lista_faixa[0])\n",
        "\n",
        "elif 17>= calculo >= 13:\n",
        "  print(lista_faixa[1])\n",
        "\n",
        "elif 59>= calculo >= 18:\n",
        "  print(lista_faixa[2])\n",
        "\n",
        "else:\n",
        "  print(lista_faixa[-1])  "
      ],
      "metadata": {
        "colab": {
          "base_uri": "https://localhost:8080/"
        },
        "id": "QyH7e5sc3mxB",
        "outputId": "491c8eab-e2a8-47f7-fd94-25b535efbc46"
      },
      "execution_count": null,
      "outputs": [
        {
          "output_type": "stream",
          "name": "stdout",
          "text": [
            "Ano de nascimento: 2002\n",
            "Adulto\n"
          ]
        }
      ]
    },
    {
      "cell_type": "markdown",
      "source": [
        "Exercício 7"
      ],
      "metadata": {
        "id": "pa1kz_sz5zDR"
      }
    },
    {
      "cell_type": "code",
      "source": [
        "numero = int(input(\"Digite um número inteiro: \"))\n",
        "lista_par = [\"Par\", \"Ímpar\"]\n",
        "if (numero % 2 == 0):\n",
        "  print(lista_par[0])\n",
        "  \n",
        "else:\n",
        "  print(lista_par[-1])  "
      ],
      "metadata": {
        "colab": {
          "base_uri": "https://localhost:8080/"
        },
        "id": "WtgP2WVl51OD",
        "outputId": "3695a92d-e460-4920-d2b3-7a8347069af0"
      },
      "execution_count": null,
      "outputs": [
        {
          "output_type": "stream",
          "name": "stdout",
          "text": [
            "Digite um número inteiro: 7\n",
            "Ímpar\n"
          ]
        }
      ]
    },
    {
      "cell_type": "markdown",
      "source": [
        "Exercício 8"
      ],
      "metadata": {
        "id": "TjLtyO_C9nxG"
      }
    },
    {
      "cell_type": "code",
      "source": [
        "salario = float(input(\"Informe o seu salário: R$ \"))\n",
        "lista_aumento = [\"Aumento de 15%: R$\", \"Aumento de 10%: R$\"]\n",
        "\n",
        "if (salario <= 1500.00):\n",
        " print(lista_aumento[0],(salario*0.15)+salario)\n",
        "\n",
        "else:\n",
        " print(lista_aumento[-1], (salario*0.10)+salario)"
      ],
      "metadata": {
        "colab": {
          "base_uri": "https://localhost:8080/"
        },
        "id": "gQXi378N9qPu",
        "outputId": "374034b0-098b-4989-ef21-6e7c3ea53756"
      },
      "execution_count": null,
      "outputs": [
        {
          "output_type": "stream",
          "name": "stdout",
          "text": [
            "Informe o seu salário: R$ 1600\n",
            "Aumento de 10%: R$ 1760.0\n"
          ]
        }
      ]
    },
    {
      "cell_type": "markdown",
      "source": [
        "Exercício 9"
      ],
      "metadata": {
        "id": "3j5ZMcwOC_a3"
      }
    },
    {
      "cell_type": "code",
      "source": [
        "age = int(input(\"Idade: \"))\n",
        "\n",
        "if age >= 18:\n",
        "  print(\"Pode votar\")\n",
        "\n",
        "else:\n",
        "  print(\"Não pode votar esse ano\")  "
      ],
      "metadata": {
        "colab": {
          "base_uri": "https://localhost:8080/"
        },
        "id": "6yXHzclcDCL3",
        "outputId": "bcd08d18-b15f-4850-d899-022f346010fb"
      },
      "execution_count": null,
      "outputs": [
        {
          "output_type": "stream",
          "name": "stdout",
          "text": [
            "Idade: 20\n",
            "Pode votar\n"
          ]
        }
      ]
    },
    {
      "cell_type": "markdown",
      "source": [
        "Exercício 10"
      ],
      "metadata": {
        "id": "4Kc1_VGuGjuM"
      }
    },
    {
      "cell_type": "code",
      "source": [
        "nota_alunos = []\n",
        "while len(nota_alunos) != 3:\n",
        "  nota_alunos.append(int(input(\"Digite a nota do aluno: \")))\n",
        "\n",
        "media = (nota_alunos[0] + nota_alunos[1] + nota_alunos[-1])/ len(nota_alunos)\n",
        "\n",
        "if media >=7:\n",
        "  print(\"Aprovado\")\n",
        "\n",
        "elif  7 > media >= 5:\n",
        "  print(\"Recuperação\")\n",
        "\n",
        "else:\n",
        "  print(\"Reprovado\")"
      ],
      "metadata": {
        "colab": {
          "base_uri": "https://localhost:8080/"
        },
        "id": "Ay9K4ZIJGofQ",
        "outputId": "2cda2171-585a-40e8-8eae-ae448995383d"
      },
      "execution_count": null,
      "outputs": [
        {
          "output_type": "stream",
          "name": "stdout",
          "text": [
            "Digite a nota do aluno: 10\n",
            "Digite a nota do aluno: 10\n",
            "Digite a nota do aluno: 0\n",
            "Recuperação\n"
          ]
        }
      ]
    },
    {
      "cell_type": "code",
      "source": [
        "nmr = input(\"Digite um número \")\n",
        "\n",
        "try:\n",
        "   print(\"É inteiro\", int(nmr))\n",
        "except:  \n",
        "   print(\"É float\", float(nmr))"
      ],
      "metadata": {
        "colab": {
          "base_uri": "https://localhost:8080/"
        },
        "id": "4Cy8_Wc_S5r-",
        "outputId": "5eea9a52-a0b3-44f4-fd63-387b8db6aaf3"
      },
      "execution_count": null,
      "outputs": [
        {
          "output_type": "stream",
          "name": "stdout",
          "text": [
            "Digite um número 10\n",
            "É inteiro 10\n"
          ]
        }
      ]
    },
    {
      "cell_type": "code",
      "source": [
        "a = int(input(\"Digite um número \"))\n",
        "b = int(input(\"Digite um número \"))\n",
        "\n",
        "try:\n",
        "  print(a/b)\n",
        "\n",
        "except:\n",
        "  print(\"erro\")\n"
      ],
      "metadata": {
        "id": "iwJbjAtpTOLF",
        "colab": {
          "base_uri": "https://localhost:8080/"
        },
        "outputId": "29cc3998-bb62-4182-c452-f469a71627c3"
      },
      "execution_count": null,
      "outputs": [
        {
          "output_type": "stream",
          "name": "stdout",
          "text": [
            "Digite um número 5\n",
            "Digite um número 10\n",
            "0.5\n"
          ]
        }
      ]
    }
  ]
}