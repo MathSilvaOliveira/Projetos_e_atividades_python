{
  "nbformat": 4,
  "nbformat_minor": 0,
  "metadata": {
    "colab": {
      "provenance": [],
      "authorship_tag": "ABX9TyOfqICFpzZfF5jo2KUQDsxI",
      "include_colab_link": true
    },
    "kernelspec": {
      "name": "python3",
      "display_name": "Python 3"
    },
    "language_info": {
      "name": "python"
    }
  },
  "cells": [
    {
      "cell_type": "markdown",
      "metadata": {
        "id": "view-in-github",
        "colab_type": "text"
      },
      "source": [
        "<a href=\"https://colab.research.google.com/github/math22silva/Projetos_e_atividades_python/blob/main/Tabuada.ipynb\" target=\"_parent\"><img src=\"https://colab.research.google.com/assets/colab-badge.svg\" alt=\"Open In Colab\"/></a>"
      ]
    },
    {
      "cell_type": "code",
      "execution_count": null,
      "metadata": {
        "id": "M4W2bnM35ZXA"
      },
      "outputs": [],
      "source": [
        "num = int(input(\"Digite um número de 1 a 10: \"))\n",
        "i = 0\n",
        "cont = -1\n",
        "\n",
        "for i in range(11):\n",
        "  i*=num\n",
        "  cont +=1\n",
        "  print (\" \",num ,\"x\",cont, \"=\", i)"
      ]
    }
  ]
}
