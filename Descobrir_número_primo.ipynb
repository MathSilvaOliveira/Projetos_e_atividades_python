{
  "nbformat": 4,
  "nbformat_minor": 0,
  "metadata": {
    "colab": {
      "provenance": [],
      "authorship_tag": "ABX9TyO0eqVpw9uJ5awTop+BcZgq",
      "include_colab_link": true
    },
    "kernelspec": {
      "name": "python3",
      "display_name": "Python 3"
    },
    "language_info": {
      "name": "python"
    }
  },
  "cells": [
    {
      "cell_type": "markdown",
      "metadata": {
        "id": "view-in-github",
        "colab_type": "text"
      },
      "source": [
        "<a href=\"https://colab.research.google.com/github/math22silva/Projetos_e_atividades_python/blob/main/Descobrir_n%C3%BAmero_primo.ipynb\" target=\"_parent\"><img src=\"https://colab.research.google.com/assets/colab-badge.svg\" alt=\"Open In Colab\"/></a>"
      ]
    },
    {
      "cell_type": "code",
      "execution_count": 17,
      "metadata": {
        "colab": {
          "base_uri": "https://localhost:8080/"
        },
        "id": "V9T_UTA9Xi9O",
        "outputId": "e99a07bb-0203-43aa-f87d-d49b3a76d3e2"
      },
      "outputs": [
        {
          "output_type": "stream",
          "name": "stdout",
          "text": [
            "Digite um número: 67\n",
            "67 É primo\n"
          ]
        }
      ],
      "source": [
        "num = int(input(\"Digite um número: \"))\n",
        "\n",
        "if num > 1:\n",
        "  for n in range(2,num):\n",
        "    if num % n == 0:\n",
        "      print(num,\"Não é primo\")\n",
        "\n",
        "  else:\n",
        "    print(num,\"É primo\")\n",
        "\n",
        "else:\n",
        "  print(num,\"Não é primo\")"
      ]
    }
  ]
}